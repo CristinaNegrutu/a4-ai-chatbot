{
 "cells": [
  {
   "cell_type": "code",
   "execution_count": 2,
   "metadata": {},
   "outputs": [],
   "source": [
    "import sqlite3\n",
    "import pandas as pd\n",
    "\n",
    "timeframe = '2017-10'\n",
    "\n",
    "connection = sqlite3.connect('{}.db'.format(timeframe))\n",
    "cursor = connection.cursor()\n",
    "limit = 5000\n",
    "last_unix = 0\n",
    "cur_length = limit\n",
    "counter = 0\n",
    "test_done = False"
   ]
  },
  {
   "cell_type": "code",
   "execution_count": 3,
   "metadata": {},
   "outputs": [],
   "source": [
    "def create_data(data_type):\n",
    "    with open('{}.from'.format(data_type), 'a', encoding='utf8') as f:\n",
    "        for content in df['parent'].values:\n",
    "            f.write(content + '\\n')\n",
    "                \n",
    "    with open('{}.to'.format(data_type), 'a', encoding='utf8') as f:\n",
    "        for content in df['comment'].values:\n",
    "            f.write(content + '\\n')"
   ]
  },
  {
   "cell_type": "code",
   "execution_count": 4,
   "metadata": {},
   "outputs": [
    {
     "name": "stdout",
     "output_type": "stream",
     "text": [
      "100000 rows completed\n",
      "200000 rows completed\n",
      "300000 rows completed\n",
      "400000 rows completed\n",
      "500000 rows completed\n",
      "600000 rows completed\n",
      "700000 rows completed\n",
      "800000 rows completed\n",
      "900000 rows completed\n",
      "1000000 rows completed\n",
      "1100000 rows completed\n",
      "1200000 rows completed\n",
      "1300000 rows completed\n",
      "1400000 rows completed\n",
      "1500000 rows completed\n",
      "1600000 rows completed\n",
      "1700000 rows completed\n",
      "1800000 rows completed\n",
      "1900000 rows completed\n",
      "2000000 rows completed\n",
      "2100000 rows completed\n",
      "2200000 rows completed\n",
      "2300000 rows completed\n",
      "2400000 rows completed\n",
      "2500000 rows completed\n",
      "2600000 rows completed\n",
      "2700000 rows completed\n",
      "2800000 rows completed\n",
      "2900000 rows completed\n",
      "3000000 rows completed\n",
      "3100000 rows completed\n",
      "3200000 rows completed\n",
      "3300000 rows completed\n",
      "3400000 rows completed\n",
      "3500000 rows completed\n",
      "3600000 rows completed\n",
      "3700000 rows completed\n",
      "3800000 rows completed\n",
      "3900000 rows completed\n",
      "4000000 rows completed\n",
      "4100000 rows completed\n",
      "4200000 rows completed\n",
      "4300000 rows completed\n",
      "4400000 rows completed\n",
      "4500000 rows completed\n",
      "4600000 rows completed\n",
      "4700000 rows completed\n",
      "4800000 rows completed\n",
      "4900000 rows completed\n",
      "5000000 rows completed\n",
      "5100000 rows completed\n",
      "5200000 rows completed\n",
      "5300000 rows completed\n",
      "5400000 rows completed\n",
      "5500000 rows completed\n",
      "5600000 rows completed\n",
      "5700000 rows completed\n",
      "5800000 rows completed\n",
      "5900000 rows completed\n",
      "6000000 rows completed\n",
      "6100000 rows completed\n",
      "6200000 rows completed\n",
      "6300000 rows completed\n"
     ]
    }
   ],
   "source": [
    "while cur_length == limit:\n",
    "    df = pd.read_sql('''SELECT * FROM parent_reply WHERE unix > {}\n",
    "    AND parent NOT NULL AND score > 0 ORDER BY unix ASC LIMIT {}'''.format(last_unix, limit), connection)\n",
    "    \n",
    "    last_unix = df.tail(1)['unix'].values[0]\n",
    "    cur_length = len(df)\n",
    "    \n",
    "    if not test_done:\n",
    "        create_data('test')        \n",
    "        test_done = True\n",
    "    else:\n",
    "        create_data('train')\n",
    "    \n",
    "    counter += 1\n",
    "    \n",
    "    if counter % 20 == 0:\n",
    "        print(counter * limit, 'rows completed')"
   ]
  }
 ],
 "metadata": {
  "kernelspec": {
   "display_name": "Python 3",
   "language": "python",
   "name": "python3"
  },
  "language_info": {
   "codemirror_mode": {
    "name": "ipython",
    "version": 3
   },
   "file_extension": ".py",
   "mimetype": "text/x-python",
   "name": "python",
   "nbconvert_exporter": "python",
   "pygments_lexer": "ipython3",
   "version": "3.6.2"
  }
 },
 "nbformat": 4,
 "nbformat_minor": 2
}
